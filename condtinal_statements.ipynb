{
 "cells": [
  {
   "cell_type": "code",
   "execution_count": 1,
   "metadata": {},
   "outputs": [],
   "source": [
    "# **Exercise 1: Basic Condition**\n",
    "# Problem: Write a program that checks if a number is positive, negative, or zero.\n",
    "# Instructions:\n",
    "# - Prompt the user to enter a number.\n",
    "# - Use conditional statements to determine if the number is positive, negative, or zero.\n",
    "# - Print the result.\n"
   ]
  },
  {
   "cell_type": "code",
   "execution_count": 2,
   "metadata": {},
   "outputs": [
    {
     "name": "stdout",
     "output_type": "stream",
     "text": [
      "The number is positive.\n"
     ]
    }
   ],
   "source": [
    "# Solution:\n",
    "number = float(input(\"Enter a number: \"))\n",
    "\n",
    "if number > 0:\n",
    "    print(\"The number is positive.\")\n",
    "elif number < 0:\n",
    "    print(\"The number is negative.\")\n",
    "else:\n",
    "    print(\"The number is zero.\")"
   ]
  },
  {
   "cell_type": "code",
   "execution_count": 3,
   "metadata": {},
   "outputs": [],
   "source": [
    "# **Exercise 2: Age Classification**\n",
    "# Problem: Write a program that classifies a person’s age into categories: Child (0-12), Teenager (13-19), Adult (20-64), and Senior (65 and above).\n",
    "# Instructions:\n",
    "# - Prompt the user to enter their age.\n",
    "# - Use conditional statements to classify the age into the appropriate category.\n",
    "# - Print the result."
   ]
  },
  {
   "cell_type": "code",
   "execution_count": 4,
   "metadata": {},
   "outputs": [
    {
     "name": "stdout",
     "output_type": "stream",
     "text": [
      "You are an Adult.\n"
     ]
    }
   ],
   "source": [
    "\n",
    "# Solution:\n",
    "age = int(input(\"Enter your age: \"))\n",
    "\n",
    "if 0 <= age <= 12:\n",
    "    print(\"You are a Child.\")\n",
    "elif 13 <= age <= 19:\n",
    "    print(\"You are a Teenager.\")\n",
    "elif 20 <= age <= 64:\n",
    "    print(\"You are an Adult.\")\n",
    "elif age >= 65:\n",
    "    print(\"You are a Senior.\")\n",
    "else:\n",
    "    print(\"Invalid age entered.\")"
   ]
  },
  {
   "cell_type": "code",
   "execution_count": 5,
   "metadata": {},
   "outputs": [],
   "source": [
    "# **Exercise 3: Grade Evaluation**\n",
    "# Problem: Write a program that assigns a letter grade based on a numeric score (0-100). The grading scale is as follows:\n",
    "# - 90-100: A\n",
    "# - 80-89: B\n",
    "# - 70-79: C\n",
    "# - 60-69: D\n",
    "# - Below 60: F\n",
    "# Instructions:\n",
    "# - Prompt the user to enter a score.\n",
    "# - Use conditional statements to determine the letter grade.\n",
    "# - Print the result."
   ]
  },
  {
   "cell_type": "code",
   "execution_count": 6,
   "metadata": {},
   "outputs": [
    {
     "name": "stdout",
     "output_type": "stream",
     "text": [
      "Your grade is A.\n"
     ]
    }
   ],
   "source": [
    "# Solution:\n",
    "score = float(input(\"Enter your score (0-100): \"))\n",
    "\n",
    "if 90 <= score <= 100:\n",
    "    print(\"Your grade is A.\")\n",
    "elif 80 <= score < 90:\n",
    "    print(\"Your grade is B.\")\n",
    "elif 70 <= score < 80:\n",
    "    print(\"Your grade is C.\")\n",
    "elif 60 <= score < 70:\n",
    "    print(\"Your grade is D.\")\n",
    "elif 0 <= score < 60:\n",
    "    print(\"Your grade is F.\")\n",
    "else:\n",
    "    print(\"Invalid score entered.\")"
   ]
  },
  {
   "cell_type": "code",
   "execution_count": 7,
   "metadata": {},
   "outputs": [],
   "source": [
    "# **Exercise 4: Leap Year Check**\n",
    "# Problem: Write a program to check if a given year is a leap year. A year is a leap year if:\n",
    "# - It is divisible by 4, and\n",
    "# - It is not divisible by 100, or it is divisible by 400.\n",
    "# Instructions:\n",
    "# - Prompt the user to enter a year.\n",
    "# - Use conditional statements to determine if the year is a leap year.\n",
    "# - Print the result."
   ]
  },
  {
   "cell_type": "code",
   "execution_count": 8,
   "metadata": {},
   "outputs": [
    {
     "name": "stdout",
     "output_type": "stream",
     "text": [
      "The year is not a leap year.\n"
     ]
    }
   ],
   "source": [
    "# Solution:\n",
    "year = int(input(\"Enter a year: \"))\n",
    "\n",
    "if (year % 4 == 0 and year % 100 != 0) or (year % 400 == 0):\n",
    "    print(\"The year is a leap year.\")\n",
    "else:\n",
    "    print(\"The year is not a leap year.\")"
   ]
  },
  {
   "cell_type": "code",
   "execution_count": 9,
   "metadata": {},
   "outputs": [],
   "source": [
    "\n",
    "# **Exercise 5: Login Validation**\n",
    "# Problem: Write a program that simulates a simple login system. The system should:\n",
    "# - Prompt the user for a username and password.\n",
    "# - Check if the username is \"user\" and the password is \"pass\".\n",
    "# - Print \"Login successful\" if both are correct; otherwise, print \"Login failed\".\n",
    "# Instructions:\n",
    "# - Use conditional statements to validate the username and password."
   ]
  },
  {
   "cell_type": "code",
   "execution_count": 10,
   "metadata": {},
   "outputs": [
    {
     "name": "stdout",
     "output_type": "stream",
     "text": [
      "Login failed.\n"
     ]
    }
   ],
   "source": [
    "# Solution:\n",
    "username = input(\"Enter username: \")\n",
    "password = input(\"Enter password: \")\n",
    "\n",
    "if username == \"user\" and password == \"pass\":\n",
    "    print(\"Login successful.\")\n",
    "else:\n",
    "    print(\"Login failed.\")"
   ]
  },
  {
   "cell_type": "code",
   "execution_count": 11,
   "metadata": {},
   "outputs": [],
   "source": [
    "# **Exercise 6: Voting Eligibility**\n",
    "# Problem: Write a program to determine if a person is eligible to vote. A person is eligible to vote if they are 18 years old or older.\n",
    "# Instructions:\n",
    "# - Prompt the user to enter their age.\n",
    "# - Use conditional statements to check if the user is eligible to vote.\n",
    "# - Print the result."
   ]
  },
  {
   "cell_type": "code",
   "execution_count": 12,
   "metadata": {},
   "outputs": [
    {
     "name": "stdout",
     "output_type": "stream",
     "text": [
      "You are eligible to vote.\n"
     ]
    }
   ],
   "source": [
    "\n",
    "# Solution:\n",
    "age = int(input(\"Enter your age: \"))\n",
    "\n",
    "if age >= 18:\n",
    "    print(\"You are eligible to vote.\")\n",
    "else:\n",
    "    print(\"You are not eligible to vote.\")"
   ]
  },
  {
   "cell_type": "code",
   "execution_count": 13,
   "metadata": {},
   "outputs": [],
   "source": [
    "# **Exercise 7: Temperature Check**\n",
    "# Problem: Write a program that categorizes the temperature as 'Cold', 'Warm', or 'Hot'. The categories are:\n",
    "# - Cold: Below 10°C\n",
    "# - Warm: 10°C to 25°C\n",
    "# - Hot: Above 25°C\n",
    "# Instructions:\n",
    "# - Prompt the user to enter the temperature in Celsius.\n",
    "# - Use conditional statements to categorize the temperature.\n",
    "# - Print the result.\n"
   ]
  },
  {
   "cell_type": "code",
   "execution_count": 14,
   "metadata": {},
   "outputs": [
    {
     "name": "stdout",
     "output_type": "stream",
     "text": [
      "The temperature is Hot.\n"
     ]
    }
   ],
   "source": [
    "# Solution:\n",
    "temperature = float(input(\"Enter the temperature in Celsius: \"))\n",
    "\n",
    "if temperature < 10:\n",
    "    print(\"The temperature is Cold.\")\n",
    "elif 10 <= temperature <= 25:\n",
    "    print(\"The temperature is Warm.\")\n",
    "else:\n",
    "    print(\"The temperature is Hot.\")"
   ]
  },
  {
   "cell_type": "code",
   "execution_count": 15,
   "metadata": {},
   "outputs": [],
   "source": [
    "# **Exercise 8: Even or Odd**\n",
    "# Problem: Write a program to check if a number is even or odd.\n",
    "# Instructions:\n",
    "# - Prompt the user to enter a number.\n",
    "# - Use conditional statements to determine if the number is even or odd.\n",
    "# - Print the result."
   ]
  },
  {
   "cell_type": "code",
   "execution_count": 16,
   "metadata": {},
   "outputs": [
    {
     "name": "stdout",
     "output_type": "stream",
     "text": [
      "The number is even.\n"
     ]
    }
   ],
   "source": [
    "# Solution:\n",
    "number = int(input(\"Enter a number: \"))\n",
    "\n",
    "if number % 2 == 0:\n",
    "    print(\"The number is even.\")\n",
    "else:\n",
    "    print(\"The number is odd.\")"
   ]
  },
  {
   "cell_type": "code",
   "execution_count": 17,
   "metadata": {},
   "outputs": [],
   "source": [
    "# **Exercise 9: Compare Two Numbers**\n",
    "# Problem: Write a program to compare two numbers and print which one is greater, smaller, or if they are equal.\n",
    "# Instructions:\n",
    "# - Prompt the user to enter two numbers.\n",
    "# - Use conditional statements to compare the numbers.\n",
    "# - Print the result."
   ]
  },
  {
   "cell_type": "code",
   "execution_count": 18,
   "metadata": {},
   "outputs": [
    {
     "name": "stdout",
     "output_type": "stream",
     "text": [
      "The first number is smaller than the second number.\n"
     ]
    }
   ],
   "source": [
    "\n",
    "# Solution:\n",
    "number1 = float(input(\"Enter the first number: \"))\n",
    "number2 = float(input(\"Enter the second number: \"))\n",
    "\n",
    "if number1 > number2:\n",
    "    print(\"The first number is greater than the second number.\")\n",
    "elif number1 < number2:\n",
    "    print(\"The first number is smaller than the second number.\")\n",
    "else:\n",
    "    print(\"Both numbers are equal.\")\n"
   ]
  },
  {
   "cell_type": "code",
   "execution_count": 19,
   "metadata": {},
   "outputs": [],
   "source": [
    "# **Exercise 10: Check Divisibility**\n",
    "# Problem: Write a program to check if a number is divisible by both 3 and 5.\n",
    "# Instructions:\n",
    "# - Prompt the user to enter a number.\n",
    "# - Use conditional statements to check if the number is divisible by both 3 and 5.\n",
    "# - Print the result."
   ]
  },
  {
   "cell_type": "code",
   "execution_count": 20,
   "metadata": {},
   "outputs": [
    {
     "name": "stdout",
     "output_type": "stream",
     "text": [
      "The number is not divisible by both 3 and 5.\n"
     ]
    }
   ],
   "source": [
    "# Solution:\n",
    "number = int(input(\"Enter a number: \"))\n",
    "\n",
    "if number % 3 == 0 and number % 5 == 0:\n",
    "    print(\"The number is divisible by both 3 and 5.\")\n",
    "else:\n",
    "    print(\"The number is not divisible by both 3 and 5.\")"
   ]
  },
  {
   "cell_type": "code",
   "execution_count": 21,
   "metadata": {},
   "outputs": [],
   "source": [
    "# **Exercise 11: Grade Classification**\n",
    "# Problem: Write a program that assigns a performance classification based on a numeric score. The classification is:\n",
    "# - Excellent: 85 and above\n",
    "# - Good: 70 to 84\n",
    "# - Average: 50 to 69\n",
    "# - Poor: Below 50\n",
    "# Instructions:\n",
    "# - Prompt the user to enter a score.\n",
    "# - Use conditional statements to classify the score.\n",
    "# - Print the result."
   ]
  },
  {
   "cell_type": "code",
   "execution_count": 22,
   "metadata": {},
   "outputs": [
    {
     "name": "stdout",
     "output_type": "stream",
     "text": [
      "Performance classification: Poor.\n"
     ]
    }
   ],
   "source": [
    "# Solution:\n",
    "score = float(input(\"Enter your score: \"))\n",
    "\n",
    "if score >= 85:\n",
    "    print(\"Performance classification: Excellent.\")\n",
    "elif 70 <= score < 85:\n",
    "    print(\"Performance classification: Good.\")\n",
    "elif 50 <= score < 70:\n",
    "    print(\"Performance classification: Average.\")\n",
    "else:\n",
    "    print(\"Performance classification: Poor.\")"
   ]
  },
  {
   "cell_type": "code",
   "execution_count": 23,
   "metadata": {},
   "outputs": [],
   "source": [
    "# **Exercise 12: Discount Calculation**\n",
    "# Problem: Write a program that calculates a discount based on the purchase amount. The discounts are:\n",
    "# - 10% discount for amounts over $100\n",
    "# - 5% discount for amounts between $50 and $100\n",
    "# - No discount for amounts below $50\n",
    "# Instructions:\n",
    "# - Prompt the user to enter the purchase amount.\n",
    "# - Use conditional statements to determine the discount.\n",
    "# - Print the discount amount."
   ]
  },
  {
   "cell_type": "code",
   "execution_count": 24,
   "metadata": {},
   "outputs": [
    {
     "name": "stdout",
     "output_type": "stream",
     "text": [
      "Discount amount: $4.50\n"
     ]
    }
   ],
   "source": [
    "# Solution:\n",
    "purchase_amount = float(input(\"Enter the purchase amount: \"))\n",
    "\n",
    "if purchase_amount > 100:\n",
    "    discount = purchase_amount * 0.10\n",
    "elif 50 <= purchase_amount <= 100:\n",
    "    discount = purchase_amount * 0.05\n",
    "else:\n",
    "    discount = 0\n",
    "\n",
    "print(f\"Discount amount: ${discount:.2f}\")"
   ]
  },
  {
   "cell_type": "code",
   "execution_count": null,
   "metadata": {},
   "outputs": [],
   "source": []
  }
 ],
 "metadata": {
  "kernelspec": {
   "display_name": "Python 3",
   "language": "python",
   "name": "python3"
  },
  "language_info": {
   "codemirror_mode": {
    "name": "ipython",
    "version": 3
   },
   "file_extension": ".py",
   "mimetype": "text/x-python",
   "name": "python",
   "nbconvert_exporter": "python",
   "pygments_lexer": "ipython3",
   "version": "3.12.4"
  }
 },
 "nbformat": 4,
 "nbformat_minor": 2
}

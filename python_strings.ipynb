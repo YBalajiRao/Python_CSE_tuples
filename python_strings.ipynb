{
 "cells": [
  {
   "cell_type": "code",
   "execution_count": 1,
   "metadata": {},
   "outputs": [],
   "source": [
    "# Strings in Python"
   ]
  },
  {
   "cell_type": "code",
   "execution_count": 2,
   "metadata": {},
   "outputs": [],
   "source": [
    "# A string is a sequence of characters enclosed within single quotes (' '), double quotes (\" \"), or triple quotes (''' ''' or \"\"\" \"\"\" for multi-line strings).\n",
    "# Strings are immutable, meaning once a string is created, it cannot be modified."
   ]
  },
  {
   "cell_type": "code",
   "execution_count": 3,
   "metadata": {},
   "outputs": [
    {
     "name": "stdout",
     "output_type": "stream",
     "text": [
      "Hello, World!\n",
      "Python Programming\n",
      "This is a multi-line\n",
      "string that spans more than\n",
      "one line.\n"
     ]
    }
   ],
   "source": [
    "# 2. **Creating Strings**\n",
    "# Strings can be created by enclosing characters in quotes.\n",
    "single_quote_string = 'Hello, World!'\n",
    "double_quote_string = \"Python Programming\"\n",
    "triple_quote_string = '''This is a multi-line\n",
    "string that spans more than\n",
    "one line.'''\n",
    "print(single_quote_string)\n",
    "print(double_quote_string)\n",
    "print(triple_quote_string)"
   ]
  },
  {
   "cell_type": "code",
   "execution_count": 10,
   "metadata": {},
   "outputs": [
    {
     "name": "stdout",
     "output_type": "stream",
     "text": [
      "Hello Alice\n"
     ]
    }
   ],
   "source": [
    "# 3. **String Concatenation**\n",
    "# Concatenate strings using the `+` operator.\n",
    "greeting = 'Hello'\n",
    "name = 'Alice'\n",
    "message = greeting + ' ' + name\n",
    "print(message)  # Output: Hello Alice"
   ]
  },
  {
   "cell_type": "code",
   "execution_count": 12,
   "metadata": {},
   "outputs": [
    {
     "name": "stdout",
     "output_type": "stream",
     "text": [
      "Python! Python! Python! \n"
     ]
    }
   ],
   "source": [
    "# 4. **String Repetition**\n",
    "# Repeat strings using the `*` operator.\n",
    "repeat_string = 'Python! ' * 3\n",
    "print(repeat_string)  # Output: Python! Python! Python!"
   ]
  },
  {
   "cell_type": "code",
   "execution_count": 13,
   "metadata": {},
   "outputs": [
    {
     "name": "stdout",
     "output_type": "stream",
     "text": [
      "First character: H\n",
      "Last character: o\n"
     ]
    }
   ],
   "source": [
    "# 5. **Accessing Characters**\n",
    "# Access individual characters in a string using indexing (starting from 0).\n",
    "string = 'Hello'\n",
    "first_char = string[0]\n",
    "last_char = string[-1]\n",
    "print(\"First character:\", first_char)  # Output: H\n",
    "print(\"Last character:\", last_char)    # Output: o"
   ]
  },
  {
   "cell_type": "code",
   "execution_count": 14,
   "metadata": {},
   "outputs": [
    {
     "name": "stdout",
     "output_type": "stream",
     "text": [
      "ell\n"
     ]
    }
   ],
   "source": [
    "# 6. **Slicing Strings**\n",
    "# Extract substrings using slicing.\n",
    "# Syntax: string[start:stop:step]\n",
    "substring = string[1:4]    # Characters from index 1 to 3 (4-1)\n",
    "print(substring)  # Output: ell"
   ]
  },
  {
   "cell_type": "code",
   "execution_count": 15,
   "metadata": {},
   "outputs": [],
   "source": [
    "# 7. **String Methods**\n",
    "# Strings have various built-in methods. Some common methods include:\n",
    "# - `lower()`: Converts the string to lowercase.\n",
    "# - `upper()`: Converts the string to uppercase.\n",
    "# - `strip()`: Removes whitespace from the beginning and end.\n",
    "# - `replace(old, new)`: Replaces occurrences of a substring with another substring.\n",
    "# - `split(delimiter)`: Splits the string into a list based on a delimiter.\n",
    "# - `join(iterable)`: Joins elements of an iterable into a string with the specified delimiter.\n"
   ]
  },
  {
   "cell_type": "code",
   "execution_count": 22,
   "metadata": {},
   "outputs": [
    {
     "name": "stdout",
     "output_type": "stream",
     "text": [
      "  hello, world!  \n",
      "  HELLO, WORLD!  \n",
      "Hello, World!\n",
      "  Hello, Python!  \n",
      "['  Hello', ' World!  ']\n",
      "Python is fun\n"
     ]
    }
   ],
   "source": [
    "text = '  Hello, World!  '\n",
    "print(text.lower())           # Output: '  hello, world!  '\n",
    "print(text.upper())           # Output: '  HELLO, WORLD!  '\n",
    "print(text.strip())           # Output: 'Hello, World!'\n",
    "print(text.replace('World', 'Python'))  # Output: '  Hello, Python!  '\n",
    "print(text.split(','))        # Output: ['  Hello', ' World!  ']\n",
    "words = ['Python', 'is', 'fun']\n",
    "sentence = ' '.join(words)\n",
    "print(sentence)               # Output: 'Python is fun'"
   ]
  },
  {
   "cell_type": "code",
   "execution_count": 34,
   "metadata": {},
   "outputs": [
    {
     "name": "stdout",
     "output_type": "stream",
     "text": [
      "Alice is 25 years old.\n",
      "Alice is 25 years old.\n",
      "Alice is 25 years old.\n"
     ]
    }
   ],
   "source": [
    "# 8. **Formatting Strings**\n",
    "# Format strings using `f-strings` (Python 3.6+), `format()` method, or `%` operator.\n",
    "name = 'Alice'\n",
    "age = 25\n",
    "# Using f-strings\n",
    "formatted_string = f'{name} is {age} years old.'\n",
    "print(formatted_string)  # Output: Alice is 25 years old.\n",
    "# Using format() method\n",
    "formatted_string = '{} is {} years old.'.format(name, age)\n",
    "print(formatted_string)  # Output: Alice is 25 years old.\n",
    "# Using % operator\n",
    "formatted_string = '%s is %d years old.' % (name, age)\n",
    "print(formatted_string)  # Output: Alice is 25 years old."
   ]
  },
  {
   "cell_type": "markdown",
   "metadata": {},
   "source": []
  },
  {
   "cell_type": "code",
   "execution_count": 35,
   "metadata": {},
   "outputs": [
    {
     "name": "stdout",
     "output_type": "stream",
     "text": [
      "He said, \"Python is awesome!\"\n"
     ]
    }
   ],
   "source": [
    "# 9. **Escaping Characters**\n",
    "# Use backslash (\\) to escape special characters in strings.\n",
    "escaped_string = 'He said, \"Python is awesome!\"'\n",
    "print(escaped_string)  # Output: He said, \"Python is awesome!\""
   ]
  },
  {
   "cell_type": "code",
   "execution_count": 36,
   "metadata": {},
   "outputs": [
    {
     "name": "stdout",
     "output_type": "stream",
     "text": [
      "Hello\n",
      "Jello\n"
     ]
    }
   ],
   "source": [
    "\n",
    "# 10. **String Immutability**\n",
    "# Strings are immutable, meaning they cannot be changed after creation.\n",
    "# To modify a string, you create a new string.\n",
    "original_string = 'Hello'\n",
    "modified_string = original_string.replace('H', 'J')\n",
    "print(original_string)  # Output: Hello\n",
    "print(modified_string)  # Output: Jello"
   ]
  },
  {
   "cell_type": "code",
   "execution_count": null,
   "metadata": {},
   "outputs": [],
   "source": []
  }
 ],
 "metadata": {
  "kernelspec": {
   "display_name": "Python 3",
   "language": "python",
   "name": "python3"
  },
  "language_info": {
   "codemirror_mode": {
    "name": "ipython",
    "version": 3
   },
   "file_extension": ".py",
   "mimetype": "text/x-python",
   "name": "python",
   "nbconvert_exporter": "python",
   "pygments_lexer": "ipython3",
   "version": "3.12.4"
  }
 },
 "nbformat": 4,
 "nbformat_minor": 2
}

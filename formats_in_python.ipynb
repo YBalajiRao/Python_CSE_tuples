{
 "cells": [
  {
   "cell_type": "code",
   "execution_count": 1,
   "metadata": {},
   "outputs": [
    {
     "name": "stdout",
     "output_type": "stream",
     "text": [
      "Hello, world!\n"
     ]
    }
   ],
   "source": [
    "# **Introduction to Strings**\n",
    "\n",
    "# In Python, strings are sequences of characters used to represent text.\n",
    "# For example:\n",
    "message = \"Hello, world!\"\n",
    "print(message)\n",
    "# Output: Hello, world!\n"
   ]
  },
  {
   "cell_type": "code",
   "execution_count": 2,
   "metadata": {},
   "outputs": [
    {
     "name": "stdout",
     "output_type": "stream",
     "text": [
      "Name: Alice, Age: 30\n"
     ]
    }
   ],
   "source": [
    "# **Why String Formatting is Needed**\n",
    "\n",
    "# String formatting allows you to dynamically insert values into strings.\n",
    "# This is useful for:\n",
    "# - Creating user-friendly messages.\n",
    "# - Generating reports with variable data.\n",
    "# - Formatting output for better readability.\n",
    "\n",
    "# Without formatting, combining variables into a string would require complex concatenation.\n",
    "name = \"Alice\"\n",
    "age = 30\n",
    "\n",
    "# Without formatting\n",
    "message = \"Name: \" + name + \", Age: \" + str(age)\n",
    "print(message)\n",
    "# Output: Name: Alice, Age: 30\n"
   ]
  },
  {
   "cell_type": "code",
   "execution_count": 3,
   "metadata": {},
   "outputs": [
    {
     "name": "stdout",
     "output_type": "stream",
     "text": [
      "Name: Bob, Age: 25\n"
     ]
    }
   ],
   "source": [
    "# **Old-Style String Formatting (`%` Operator)**\n",
    "\n",
    "# This method allows you to format strings using the % operator.\n",
    "# Placeholders in the string are replaced by the provided values.\n",
    "\n",
    "# Basic example\n",
    "name = \"Bob\"\n",
    "age = 25\n",
    "formatted_string = \"Name: %s, Age: %d\" % (name, age)\n",
    "print(formatted_string)\n",
    "# Output: Name: Bob, Age: 25\n",
    "\n",
    "# The %s is a placeholder for a string\n",
    "# The %d is a placeholder for an integer\n"
   ]
  },
  {
   "cell_type": "code",
   "execution_count": 4,
   "metadata": {},
   "outputs": [
    {
     "name": "stdout",
     "output_type": "stream",
     "text": [
      "Name: Charlie, Age: 35\n",
      "Name: Charlie, Age: 35. Charlie is a great person.\n",
      "Name: Diana, Age: 28\n"
     ]
    }
   ],
   "source": [
    "# **Using `str.format()` Method**\n",
    "\n",
    "# This method provides more flexibility with curly braces {} as placeholders.\n",
    "# You use the format() method to insert values into the placeholders.\n",
    "\n",
    "# Basic example\n",
    "name = \"Charlie\"\n",
    "age = 35\n",
    "formatted_string = \"Name: {}, Age: {}\".format(name, age)\n",
    "print(formatted_string)\n",
    "# Output: Name: Charlie, Age: 35\n",
    "\n",
    "# With positional arguments\n",
    "formatted_string = \"Name: {0}, Age: {1}. {0} is a great person.\".format(name, age)\n",
    "print(formatted_string)\n",
    "# Output: Name: Charlie, Age: 35. Charlie is a great person.\n",
    "\n",
    "# With keyword arguments\n",
    "formatted_string = \"Name: {name}, Age: {age}\".format(name=\"Diana\", age=28)\n",
    "print(formatted_string)\n",
    "# Output: Name: Diana, Age: 28\n"
   ]
  },
  {
   "cell_type": "code",
   "execution_count": 5,
   "metadata": {},
   "outputs": [
    {
     "name": "stdout",
     "output_type": "stream",
     "text": [
      "Name: Bob, Age: 25\n"
     ]
    }
   ],
   "source": [
    "# **Old-Style String Formatting (`%` Operator)**\n",
    "\n",
    "# This method allows you to format strings using the % operator.\n",
    "# Placeholders in the string are replaced by the provided values.\n",
    "\n",
    "# Basic example\n",
    "name = \"Bob\"\n",
    "age = 25\n",
    "formatted_string = \"Name: %s, Age: %d\" % (name, age)\n",
    "print(formatted_string)\n",
    "# Output: Name: Bob, Age: 25\n",
    "\n",
    "# The %s is a placeholder for a string\n",
    "# The %d is a placeholder for an integer\n"
   ]
  },
  {
   "cell_type": "code",
   "execution_count": 6,
   "metadata": {},
   "outputs": [],
   "source": [
    "# **Summary**\n",
    "\n",
    "# String formatting is crucial for creating dynamic, readable strings in your programs.\n",
    "# It allows you to:\n",
    "# - Insert values into strings.\n",
    "# - Format numbers and text.\n",
    "# - Create informative and user-friendly messages.\n",
    "\n",
    "# Practice\n",
    "# Try using each formatting method to create your own formatted strings and see which one you prefer.\n",
    "# - Use old-style formatting for basic strings.\n",
    "# - Try `str.format()` for more flexibility.\n",
    "# - Experiment with f-Strings for modern, efficient formatting.\n"
   ]
  },
  {
   "cell_type": "code",
   "execution_count": null,
   "metadata": {},
   "outputs": [],
   "source": []
  },
  {
   "cell_type": "code",
   "execution_count": null,
   "metadata": {},
   "outputs": [],
   "source": []
  },
  {
   "cell_type": "code",
   "execution_count": null,
   "metadata": {},
   "outputs": [],
   "source": []
  },
  {
   "cell_type": "code",
   "execution_count": null,
   "metadata": {},
   "outputs": [],
   "source": []
  },
  {
   "cell_type": "code",
   "execution_count": null,
   "metadata": {},
   "outputs": [],
   "source": []
  },
  {
   "cell_type": "code",
   "execution_count": null,
   "metadata": {},
   "outputs": [],
   "source": []
  }
 ],
 "metadata": {
  "kernelspec": {
   "display_name": "Python 3",
   "language": "python",
   "name": "python3"
  },
  "language_info": {
   "codemirror_mode": {
    "name": "ipython",
    "version": 3
   },
   "file_extension": ".py",
   "mimetype": "text/x-python",
   "name": "python",
   "nbconvert_exporter": "python",
   "pygments_lexer": "ipython3",
   "version": "3.12.4"
  }
 },
 "nbformat": 4,
 "nbformat_minor": 2
}

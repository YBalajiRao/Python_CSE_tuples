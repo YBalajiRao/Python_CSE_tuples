{
 "cells": [
  {
   "cell_type": "code",
   "execution_count": 1,
   "metadata": {},
   "outputs": [],
   "source": [
    "# -----------------------------------------------\n",
    "# Python Sets - Notes\n",
    "# -----------------------------------------------"
   ]
  },
  {
   "cell_type": "markdown",
   "metadata": {},
   "source": []
  },
  {
   "cell_type": "code",
   "execution_count": 3,
   "metadata": {},
   "outputs": [],
   "source": [
    "# # 1. Introduction to Sets\n",
    "# \n",
    "# - **Definition**: A set is an unordered collection of unique elements.\n",
    "# - **Characteristics**:\n",
    "#   - **Unordered**: No indexing, slicing, or other sequence-like behavior.\n",
    "#   - **Unique**: No duplicate elements allowed.\n",
    "#   - **Mutable**: Elements can be added or removed, but the set itself is mutable.\n"
   ]
  },
  {
   "cell_type": "code",
   "execution_count": 4,
   "metadata": {},
   "outputs": [],
   "source": [
    "# 2. Creating Sets\n",
    "\n",
    "## 2.1. Using Curly Braces\n"
   ]
  },
  {
   "cell_type": "code",
   "execution_count": 5,
   "metadata": {},
   "outputs": [
    {
     "name": "stdout",
     "output_type": "stream",
     "text": [
      "Set a: {1, 2, 3, 4, 5}\n"
     ]
    }
   ],
   "source": [
    "# Create a set using curly braces\n",
    "a = {1, 2, 3, 4, 5}\n",
    "print(\"Set a:\", a)\n"
   ]
  },
  {
   "cell_type": "code",
   "execution_count": 6,
   "metadata": {},
   "outputs": [],
   "source": [
    "## 2.2. Using the set() Constructor\n"
   ]
  },
  {
   "cell_type": "code",
   "execution_count": 7,
   "metadata": {},
   "outputs": [
    {
     "name": "stdout",
     "output_type": "stream",
     "text": [
      "Set b: {6, 7, 8, 9, 10}\n"
     ]
    }
   ],
   "source": [
    "# Create a set using the set() constructor\n",
    "b = set([6, 7, 8, 9, 10])\n",
    "print(\"Set b:\", b)\n"
   ]
  },
  {
   "cell_type": "code",
   "execution_count": 8,
   "metadata": {},
   "outputs": [],
   "source": [
    "# 3. Basic Set Operations\n",
    "\n",
    "## 3.1. Adding Elements\n"
   ]
  },
  {
   "cell_type": "code",
   "execution_count": 9,
   "metadata": {},
   "outputs": [
    {
     "name": "stdout",
     "output_type": "stream",
     "text": [
      "Set a after adding 6: {1, 2, 3, 4, 5, 6}\n",
      "Set a after updating with [7, 8, 9]: {1, 2, 3, 4, 5, 6, 7, 8, 9}\n"
     ]
    }
   ],
   "source": [
    "# Add a single element to the set\n",
    "a.add(6)\n",
    "print(\"Set a after adding 6:\", a)\n",
    "\n",
    "# Add multiple elements from an iterable\n",
    "a.update([7, 8, 9])\n",
    "print(\"Set a after updating with [7, 8, 9]:\", a)\n"
   ]
  },
  {
   "cell_type": "code",
   "execution_count": 10,
   "metadata": {},
   "outputs": [],
   "source": [
    "## 3.2. Removing Elements\n"
   ]
  },
  {
   "cell_type": "code",
   "execution_count": 11,
   "metadata": {},
   "outputs": [
    {
     "name": "stdout",
     "output_type": "stream",
     "text": [
      "Set a after removing 6: {1, 2, 3, 4, 5, 7, 8, 9}\n",
      "Set a after discarding 10: {1, 2, 3, 4, 5, 7, 8, 9}\n",
      "Removed element: 1\n",
      "Set a after popping an element: {2, 3, 4, 5, 7, 8, 9}\n",
      "Set a after clearing: set()\n"
     ]
    }
   ],
   "source": [
    "# Remove a specific element (raises KeyError if not found)\n",
    "a.remove(6)\n",
    "print(\"Set a after removing 6:\", a)\n",
    "\n",
    "# Remove a specific element (does nothing if not found)\n",
    "a.discard(10)  # No error even if 10 is not in the set\n",
    "print(\"Set a after discarding 10:\", a)\n",
    "\n",
    "# Remove and return an arbitrary element (raises KeyError if empty)\n",
    "element = a.pop()\n",
    "print(\"Removed element:\", element)\n",
    "print(\"Set a after popping an element:\", a)\n",
    "\n",
    "# Clear all elements from the set\n",
    "a.clear()\n",
    "print(\"Set a after clearing:\", a)\n"
   ]
  },
  {
   "cell_type": "code",
   "execution_count": 12,
   "metadata": {},
   "outputs": [],
   "source": [
    "## 3.3. Set Operations\n"
   ]
  },
  {
   "cell_type": "code",
   "execution_count": 13,
   "metadata": {},
   "outputs": [
    {
     "name": "stdout",
     "output_type": "stream",
     "text": [
      "Union of a and b: {1, 2, 3, 4, 5, 6, 7}\n",
      "Intersection of a and b: {3, 4, 5}\n",
      "Difference of a from b: {1, 2}\n",
      "Symmetric difference between a and b: {1, 2, 6, 7}\n"
     ]
    }
   ],
   "source": [
    "# Reinitialize sets for operations\n",
    "a = {1, 2, 3, 4, 5}\n",
    "b = {3, 4, 5, 6, 7}\n",
    "\n",
    "# Union of two sets\n",
    "c = a.union(b)\n",
    "print(\"Union of a and b:\", c)\n",
    "\n",
    "# Intersection of two sets\n",
    "d = a.intersection(b)\n",
    "print(\"Intersection of a and b:\", d)\n",
    "\n",
    "# Difference of two sets\n",
    "e = a.difference(b)\n",
    "print(\"Difference of a from b:\", e)\n",
    "\n",
    "# Symmetric difference of two sets\n",
    "f = a.symmetric_difference(b)\n",
    "print(\"Symmetric difference between a and b:\", f)\n"
   ]
  },
  {
   "cell_type": "code",
   "execution_count": 14,
   "metadata": {},
   "outputs": [],
   "source": [
    "# 4. Advanced Set Operations\n",
    "\n",
    "## 4.1. Set Relationships\n"
   ]
  },
  {
   "cell_type": "code",
   "execution_count": 15,
   "metadata": {},
   "outputs": [
    {
     "name": "stdout",
     "output_type": "stream",
     "text": [
      "Is a disjoint with b? False\n",
      "Is a a subset of b? False\n",
      "Is a a superset of b? False\n"
     ]
    }
   ],
   "source": [
    "# Check if the set is disjoint with another set (no common elements)\n",
    "is_disjoint = a.isdisjoint(b)\n",
    "print(\"Is a disjoint with b?\", is_disjoint)\n",
    "\n",
    "# Check if the set is a subset of another set\n",
    "is_subset = a.issubset(b)\n",
    "print(\"Is a a subset of b?\", is_subset)\n",
    "\n",
    "# Check if the set is a superset of another set\n",
    "is_superset = a.issuperset(b)\n",
    "print(\"Is a a superset of b?\", is_superset)\n"
   ]
  },
  {
   "cell_type": "code",
   "execution_count": 16,
   "metadata": {},
   "outputs": [],
   "source": [
    "## 4.2. Set Comprehensions\n"
   ]
  },
  {
   "cell_type": "code",
   "execution_count": 17,
   "metadata": {},
   "outputs": [
    {
     "name": "stdout",
     "output_type": "stream",
     "text": [
      "Set of squares: {0, 1, 4, 9, 16, 25}\n",
      "Set of even squares: {0, 16, 4}\n"
     ]
    }
   ],
   "source": [
    "# Create a set using set comprehension\n",
    "squares = {x**2 for x in range(6)}\n",
    "print(\"Set of squares:\", squares)\n",
    "\n",
    "# Filter elements in a set\n",
    "evens = {x for x in squares if x % 2 == 0}\n",
    "print(\"Set of even squares:\", evens)\n"
   ]
  },
  {
   "cell_type": "code",
   "execution_count": 18,
   "metadata": {},
   "outputs": [],
   "source": [
    "## 4.3. Frozen Sets\n"
   ]
  },
  {
   "cell_type": "code",
   "execution_count": 19,
   "metadata": {},
   "outputs": [
    {
     "name": "stdout",
     "output_type": "stream",
     "text": [
      "Frozen set: frozenset({1, 2, 3, 4, 5})\n"
     ]
    }
   ],
   "source": [
    "# Create a frozenset (immutable set)\n",
    "frozen_set = frozenset([1, 2, 3, 4, 5])\n",
    "print(\"Frozen set:\", frozen_set)\n",
    "\n",
    "# Attempting to add or remove elements will raise an error\n",
    "# frozen_set.add(6)  # Uncommenting this line will raise AttributeError\n"
   ]
  },
  {
   "cell_type": "code",
   "execution_count": 23,
   "metadata": {},
   "outputs": [
    {
     "name": "stdout",
     "output_type": "stream",
     "text": [
      "Unique elements: {1, 2, 3, 4, 5}\n"
     ]
    }
   ],
   "source": [
    "# 5. Performance and Tips\n",
    "# \n",
    "# - **Duplicates**: Sets automatically remove duplicates. `{1, 2, 2, 3}` becomes `{1, 2, 3}`.\n",
    "# - **Order**: Sets do not maintain the order of elements. To maintain order, consider using `collections.OrderedDict` or `sorted()`.\n",
    "# - **Performance**: Sets provide average O(1) time complexity for membership checks, which is faster than lists.\n",
    "# - **Memory Usage**: Sets are more memory-efficient than lists when checking for membership.\n",
    "\n",
    "## Example Usage Scenarios\n",
    "\n",
    "# 1. **Removing Duplicates**: Convert a list to a set to remove duplicates.\n",
    "lst = [1, 2, 2, 3, 4, 4, 5]\n",
    "unique_elements = set(lst)\n",
    "print(\"Unique elements:\", unique_elements)\n"
   ]
  },
  {
   "cell_type": "code",
   "execution_count": 24,
   "metadata": {},
   "outputs": [
    {
     "name": "stdout",
     "output_type": "stream",
     "text": [
      "Sets have common elements.\n"
     ]
    }
   ],
   "source": [
    "a = {1, 2, 3}\n",
    "b = {3, 4, 5}\n",
    "if a.intersection(b):\n",
    "    print(\"Sets have common elements.\")\n"
   ]
  },
  {
   "cell_type": "code",
   "execution_count": null,
   "metadata": {},
   "outputs": [],
   "source": []
  },
  {
   "cell_type": "code",
   "execution_count": null,
   "metadata": {},
   "outputs": [],
   "source": []
  },
  {
   "cell_type": "code",
   "execution_count": null,
   "metadata": {},
   "outputs": [],
   "source": []
  },
  {
   "cell_type": "code",
   "execution_count": null,
   "metadata": {},
   "outputs": [],
   "source": []
  },
  {
   "cell_type": "code",
   "execution_count": null,
   "metadata": {},
   "outputs": [],
   "source": []
  },
  {
   "cell_type": "code",
   "execution_count": null,
   "metadata": {},
   "outputs": [],
   "source": []
  },
  {
   "cell_type": "code",
   "execution_count": null,
   "metadata": {},
   "outputs": [],
   "source": [
    "# Set Operations for Membership Testing: Use set operations to test membership efficiently."
   ]
  }
 ],
 "metadata": {
  "kernelspec": {
   "display_name": "Python 3",
   "language": "python",
   "name": "python3"
  },
  "language_info": {
   "codemirror_mode": {
    "name": "ipython",
    "version": 3
   },
   "file_extension": ".py",
   "mimetype": "text/x-python",
   "name": "python",
   "nbconvert_exporter": "python",
   "pygments_lexer": "ipython3",
   "version": "3.12.4"
  }
 },
 "nbformat": 4,
 "nbformat_minor": 2
}

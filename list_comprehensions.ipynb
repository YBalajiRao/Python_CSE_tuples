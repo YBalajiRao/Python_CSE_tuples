{
 "cells": [
  {
   "cell_type": "code",
   "execution_count": 1,
   "metadata": {},
   "outputs": [],
   "source": [
    "# List Comprehension in Python"
   ]
  },
  {
   "cell_type": "code",
   "execution_count": 2,
   "metadata": {},
   "outputs": [],
   "source": [
    "# 1. **What is List Comprehension?**\n",
    "# List comprehension is a concise way to create lists in Python.\n",
    "# It provides a shorter syntax for creating a new list based on the values of an existing list or any other iterable."
   ]
  },
  {
   "cell_type": "code",
   "execution_count": 3,
   "metadata": {},
   "outputs": [],
   "source": [
    "# 2. **Basic Syntax**\n",
    "# The basic syntax of list comprehension is:\n",
    "# [expression for item in iterable if condition]\n",
    "# - expression: The value to be included in the new list.\n",
    "# - item: The variable representing the current value in the iteration.\n",
    "# - iterable: The collection or range you are iterating over.\n",
    "# - condition (optional): A filter that determines whether an item is included in the new list."
   ]
  },
  {
   "cell_type": "code",
   "execution_count": 4,
   "metadata": {},
   "outputs": [],
   "source": [
    "# 3. **Examples**"
   ]
  },
  {
   "cell_type": "code",
   "execution_count": 6,
   "metadata": {},
   "outputs": [
    {
     "name": "stdout",
     "output_type": "stream",
     "text": [
      "[0, 1, 4, 9, 16, 25, 36, 49, 64, 81]\n"
     ]
    }
   ],
   "source": [
    "# a. **Creating a List of Squares**\n",
    "# Create a list of squares for numbers from 0 to 9.\n",
    "# Using list comprehension:\n",
    "squares = [x**2 for x in range(10)]\n",
    "# Output: [0, 1, 4, 9, 16, 25, 36, 49, 64, 81]\n",
    "print(squares)"
   ]
  },
  {
   "cell_type": "code",
   "execution_count": 8,
   "metadata": {},
   "outputs": [
    {
     "name": "stdout",
     "output_type": "stream",
     "text": [
      "[0, 2, 4, 6, 8]\n"
     ]
    }
   ],
   "source": [
    "even_numbers=[i for i in range(10) if i%2==0]\n",
    "print(even_numbers)\n"
   ]
  },
  {
   "cell_type": "code",
   "execution_count": 9,
   "metadata": {},
   "outputs": [
    {
     "name": "stdout",
     "output_type": "stream",
     "text": [
      "['HELLO', 'WORLD', 'PYTHON']\n"
     ]
    }
   ],
   "source": [
    "words=[\"hello\",'world','python']\n",
    "upper_words=[i.upper() for i in words]\n",
    "print(upper)"
   ]
  },
  {
   "cell_type": "code",
   "execution_count": 10,
   "metadata": {},
   "outputs": [],
   "source": [
    "#**Advantages of List Comprehension**\n",
    "# - More concise and readable compared to traditional loops.\n",
    "# - Often more efficient in terms of performance."
   ]
  },
  {
   "cell_type": "code",
   "execution_count": 11,
   "metadata": {},
   "outputs": [
    {
     "name": "stdout",
     "output_type": "stream",
     "text": [
      "Cubes: [1, 8, 27, 64, 125, 216, 343, 512, 729, 1000]\n"
     ]
    }
   ],
   "source": [
    "# Problems with solutions\n",
    "# a. Create a list of cubes for numbers from 1 to 10.\n",
    "# Using list comprehension to calculate the cube of each number from 1 to 10:\n",
    "cubes = [x**3 for x in range(1, 11)]\n",
    "# Output: [1, 8, 27, 64, 125, 216, 343, 512, 729, 1000]\n",
    "print(\"Cubes:\", cubes)\n"
   ]
  },
  {
   "cell_type": "code",
   "execution_count": 12,
   "metadata": {},
   "outputs": [
    {
     "name": "stdout",
     "output_type": "stream",
     "text": [
      "Odd Numbers: [15, 23, 55, 77]\n"
     ]
    }
   ],
   "source": [
    "# b. Generate a list of all odd numbers from a given list of integers.\n",
    "# Given list of integers\n",
    "given_list = [10, 15, 23, 42, 55, 60, 77]\n",
    "# Using list comprehension to filter out odd numbers\n",
    "odd_numbers = [num for num in given_list if num % 2 != 0]\n",
    "# Output: [15, 23, 55, 77]\n",
    "print(\"Odd Numbers:\", odd_numbers)"
   ]
  },
  {
   "cell_type": "code",
   "execution_count": null,
   "metadata": {},
   "outputs": [],
   "source": []
  }
 ],
 "metadata": {
  "kernelspec": {
   "display_name": "Python 3",
   "language": "python",
   "name": "python3"
  },
  "language_info": {
   "codemirror_mode": {
    "name": "ipython",
    "version": 3
   },
   "file_extension": ".py",
   "mimetype": "text/x-python",
   "name": "python",
   "nbconvert_exporter": "python",
   "pygments_lexer": "ipython3",
   "version": "3.12.4"
  }
 },
 "nbformat": 4,
 "nbformat_minor": 2
}

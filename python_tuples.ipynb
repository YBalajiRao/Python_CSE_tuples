{
 "cells": [
  {
   "cell_type": "code",
   "execution_count": 3,
   "metadata": {},
   "outputs": [],
   "source": [
    "# Tuples in Python\n"
   ]
  },
  {
   "cell_type": "code",
   "execution_count": 5,
   "metadata": {},
   "outputs": [
    {
     "name": "stdout",
     "output_type": "stream",
     "text": [
      "('apple', 'banana', 'cherry')\n"
     ]
    }
   ],
   "source": [
    "# 1. Creating a tuple\n",
    "# A tuple is a collection of items that is ordered and immutable.\n",
    "# Tuples are defined by using parentheses ().\n",
    "# Example:\n",
    "my_tuple = (\"apple\", \"banana\", \"cherry\")\n",
    "print(my_tuple)\n",
    "# Output: ('apple', 'banana', 'cherry')\n"
   ]
  },
  {
   "cell_type": "code",
   "execution_count": 6,
   "metadata": {},
   "outputs": [
    {
     "name": "stdout",
     "output_type": "stream",
     "text": [
      "apple\n",
      "banana\n"
     ]
    }
   ],
   "source": [
    "# 2. Accessing tuple elements\n",
    "# You can access tuple elements using their index, just like lists.\n",
    "# Indexing starts from 0.\n",
    "# Example:\n",
    "print(my_tuple[0])  # Output: 'apple'\n",
    "print(my_tuple[1])  # Output: 'banana'"
   ]
  },
  {
   "cell_type": "code",
   "execution_count": 7,
   "metadata": {},
   "outputs": [
    {
     "name": "stdout",
     "output_type": "stream",
     "text": [
      "cherry\n"
     ]
    }
   ],
   "source": [
    "# 3. Negative indexing\n",
    "# You can use negative indexing to access elements from the end.\n",
    "# Example:\n",
    "print(my_tuple[-1])  # Output: 'cherry'"
   ]
  },
  {
   "cell_type": "code",
   "execution_count": 8,
   "metadata": {},
   "outputs": [
    {
     "name": "stdout",
     "output_type": "stream",
     "text": [
      "('banana', 'cherry')\n"
     ]
    }
   ],
   "source": [
    "# 4. Slicing a tuple\n",
    "# You can retrieve a range of elements using slicing.\n",
    "# The first index is inclusive, and the second index is exclusive.\n",
    "# Example:\n",
    "print(my_tuple[1:3])  # Output: ('banana', 'cherry')"
   ]
  },
  {
   "cell_type": "code",
   "execution_count": 9,
   "metadata": {},
   "outputs": [],
   "source": [
    "# 5. Immutability of tuples\n",
    "# Once a tuple is created, its values cannot be changed.\n",
    "# Example:\n",
    "# my_tuple[0] = \"orange\"  # This will give an error because tuples are immutable."
   ]
  },
  {
   "cell_type": "code",
   "execution_count": 10,
   "metadata": {},
   "outputs": [
    {
     "name": "stdout",
     "output_type": "stream",
     "text": [
      "<class 'tuple'>\n"
     ]
    }
   ],
   "source": [
    "# 6. Tuple with one item\n",
    "# To create a tuple with a single item, add a comma after the item.\n",
    "# Example:\n",
    "single_item_tuple = (\"apple\",)\n",
    "print(type(single_item_tuple))  # Output: <class 'tuple'>"
   ]
  },
  {
   "cell_type": "code",
   "execution_count": 11,
   "metadata": {},
   "outputs": [
    {
     "name": "stdout",
     "output_type": "stream",
     "text": [
      "('apple', 'banana', 'cherry')\n"
     ]
    }
   ],
   "source": [
    "# 7. Tuple without parentheses\n",
    "# You can create a tuple without using parentheses, just by separating values with commas.\n",
    "# Example:\n",
    "tuple_no_parentheses = \"apple\", \"banana\", \"cherry\"\n",
    "print(tuple_no_parentheses)  # Output: ('apple', 'banana', 'cherry')"
   ]
  },
  {
   "cell_type": "code",
   "execution_count": 12,
   "metadata": {},
   "outputs": [
    {
     "name": "stdout",
     "output_type": "stream",
     "text": [
      "1\n"
     ]
    }
   ],
   "source": [
    "\n",
    "# 8. Tuple Methods\n",
    "# Tuples have only two built-in methods: count() and index().\n",
    "# a. count(): Returns the number of times a specified value occurs in a tuple.\n",
    "# Example:\n",
    "print(my_tuple.count(\"apple\"))  # Output: 1"
   ]
  },
  {
   "cell_type": "code",
   "execution_count": 13,
   "metadata": {},
   "outputs": [
    {
     "name": "stdout",
     "output_type": "stream",
     "text": [
      "1\n"
     ]
    }
   ],
   "source": [
    "# b. index(): Returns the index of the first occurrence of a specified value.\n",
    "# Example:\n",
    "print(my_tuple.index(\"banana\"))  # Output: 1"
   ]
  },
  {
   "cell_type": "code",
   "execution_count": 14,
   "metadata": {},
   "outputs": [],
   "source": [
    "# 9. Tuple Packing and Unpacking\n",
    "# Tuple packing: When you assign multiple values to a single variable, they are packed into a tuple.\n",
    "# Example:\n",
    "my_tuple = (\"apple\", \"banana\", \"cherry\")\n"
   ]
  },
  {
   "cell_type": "code",
   "execution_count": 15,
   "metadata": {},
   "outputs": [
    {
     "name": "stdout",
     "output_type": "stream",
     "text": [
      "apple\n",
      "banana\n",
      "cherry\n"
     ]
    }
   ],
   "source": [
    "# Tuple unpacking: You can extract values from a tuple into separate variables.\n",
    "# Example:\n",
    "fruit1, fruit2, fruit3 = my_tuple\n",
    "print(fruit1)  # Output: 'apple'\n",
    "print(fruit2)  # Output: 'banana'\n",
    "print(fruit3)  # Output: 'cherry'"
   ]
  },
  {
   "cell_type": "code",
   "execution_count": 16,
   "metadata": {},
   "outputs": [],
   "source": [
    "# 10. Advantages of Tuples\n",
    "# - They are faster than lists because of their immutability.\n",
    "# - Useful when you want to store values that should not be changed."
   ]
  },
  {
   "cell_type": "code",
   "execution_count": null,
   "metadata": {},
   "outputs": [],
   "source": []
  }
 ],
 "metadata": {
  "kernelspec": {
   "display_name": "Python 3",
   "language": "python",
   "name": "python3"
  },
  "language_info": {
   "codemirror_mode": {
    "name": "ipython",
    "version": 3
   },
   "file_extension": ".py",
   "mimetype": "text/x-python",
   "name": "python",
   "nbconvert_exporter": "python",
   "pygments_lexer": "ipython3",
   "version": "3.12.4"
  }
 },
 "nbformat": 4,
 "nbformat_minor": 2
}
